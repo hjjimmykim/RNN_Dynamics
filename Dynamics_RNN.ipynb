{
  "nbformat": 4,
  "nbformat_minor": 0,
  "metadata": {
    "colab": {
      "name": "Dynamics_RNN.ipynb",
      "version": "0.3.2",
      "provenance": [],
      "collapsed_sections": [],
      "include_colab_link": true
    },
    "kernelspec": {
      "name": "python3",
      "display_name": "Python 3"
    }
  },
  "cells": [
    {
      "cell_type": "markdown",
      "metadata": {
        "id": "view-in-github",
        "colab_type": "text"
      },
      "source": [
        "[View in Colaboratory](https://colab.research.google.com/github/hjjimmykim/RNN_Dynamics/blob/master/Dynamics_RNN.ipynb)"
      ]
    },
    {
      "metadata": {
        "id": "699hFc3-sEiV",
        "colab_type": "code",
        "colab": {}
      },
      "cell_type": "code",
      "source": [
        "# Random Recurrent Neural Net (Sompolinsky 1988)\n",
        "# Maximal Lyapunov constant calculation based on http://sprott.physics.wisc.edu/chaos/lyapexp.htm\n",
        "\n",
        "import numpy as np\n",
        "import matplotlib.pyplot as plt\n",
        "import time"
      ],
      "execution_count": 0,
      "outputs": []
    },
    {
      "metadata": {
        "id": "dD7PFLy3sgRe",
        "colab_type": "text"
      },
      "cell_type": "markdown",
      "source": [
        "# Parameters"
      ]
    },
    {
      "metadata": {
        "id": "AYJKwYFLsh0J",
        "colab_type": "code",
        "colab": {}
      },
      "cell_type": "code",
      "source": [
        "# Network parameters\n",
        "N = 2000                         # Number of neurons\n",
        "g_list = np.linspace(0.5,1.5,11) # List of nonlinearity gains\n",
        "\n",
        "output_length = len(g_list)\n",
        "\n",
        "# Simulation parameters\n",
        "N_burn = 500     # Number of burn-in steps\n",
        "N_sample = 1000  # Number of sample collection steps\n",
        "dt = 0.1         # Time step size (dt = 1 & Euler Forward => discrete)\n",
        "d0 = 1e-8        # Separation between nearby trajectories (for maximal lambda calc)\n",
        "\n",
        "N_total = N_burn + N_sample      # Total number of steps to simulate.\n",
        "\n",
        "# Initial activity distribution parameters\n",
        "mean = 0\n",
        "sigma = 1"
      ],
      "execution_count": 0,
      "outputs": []
    },
    {
      "metadata": {
        "id": "Se3bkMFcvZGG",
        "colab_type": "text"
      },
      "cell_type": "markdown",
      "source": [
        "#Functions"
      ]
    },
    {
      "metadata": {
        "id": "--Zl6s9LvbYO",
        "colab_type": "code",
        "colab": {}
      },
      "cell_type": "code",
      "source": [
        "# Sompolinsky (1988)\n",
        "def RNN(x, W, g):\n",
        "  return -x + np.dot(W,np.tanh(g*x))\n",
        "\n",
        "# Euler-forward\n",
        "def EF(x, W, g, dt, f):\n",
        "  x_dot = f(x, W, g)\n",
        "  return x + x_dot * dt\n",
        "\n",
        "# RK4\n",
        "def RK4(x, W, g, dt, f):\n",
        "  k1 = dt * f(x, W, g)\n",
        "  k2 = dt * f(x + 0.5*k1, W, g)\n",
        "  k3 = dt * f(x + 0.5*k2, W, g)\n",
        "  k4 = dt * f(x + k3, W, g)\n",
        "  return x + (1/6) * (k1 + 2*k2 + 2*k3 + k4)"
      ],
      "execution_count": 0,
      "outputs": []
    },
    {
      "metadata": {
        "id": "gu0fYMEsuByG",
        "colab_type": "text"
      },
      "cell_type": "markdown",
      "source": [
        "# Simulation"
      ]
    },
    {
      "metadata": {
        "id": "0jvf2bNmuBP-",
        "colab_type": "code",
        "colab": {
          "base_uri": "https://localhost:8080/",
          "height": 221
        },
        "outputId": "bf5ea8ee-57b5-4277-a777-d8153f0e334a"
      },
      "cell_type": "code",
      "source": [
        "lambda_list = np.zeros(output_length) # Maximal Lyapunov exponents list\n",
        "\n",
        "t_start = time.time()\n",
        "t1 = time.time()\n",
        "# Loop over g's\n",
        "for i in range(len(g_list)):\n",
        "  g = g_list[i]\n",
        "  \n",
        "  # Generate random connectivity matrix\n",
        "  W = np.random.normal(0,1/np.sqrt(N),[N,N])\n",
        "  \n",
        "  # Initial state\n",
        "  h1 = np.random.normal(mean,sigma,[N,1])          # Reference trajectory\n",
        "  rand_dir = np.random.randn(N).reshape(h1.shape)\n",
        "  h2 = h1 + d0 * rand_dir/np.linalg.norm(rand_dir) # Nearby trajectory\n",
        "  \n",
        "  lambda_ = 0 # Maximal Lyapunov exponent\n",
        "  \n",
        "  # Simulate\n",
        "  for j in range(N_total):\n",
        "    \n",
        "    # Update trajectories\n",
        "    h1 = RK4(h1, W, g, dt, RNN)\n",
        "    h2 = RK4(h2, W, g, dt, RNN)\n",
        "    \n",
        "    # Calculate distance\n",
        "    d1 = np.linalg.norm(h1-h2)\n",
        "    \n",
        "    # Re-align nearby trajectory\n",
        "    h2 = h1 + (d0/d1)*(h2-h1)\n",
        "    \n",
        "    if j > N_burn:\n",
        "      lambda_ = lambda_ + np.log(d1/d0) # Update Lyapunov exponent\n",
        "      \n",
        "  lambda_list[i] = lambda_/(dt*N_sample)\n",
        "  \n",
        "  t2 = time.time()\n",
        "  print('g = ' + str(g) + ' runtime: ' + str(t2-t1) + ' s')\n",
        "  t1 = t2\n",
        "print('Total runtime: ' + str(time.time()-t_start) + ' s')"
      ],
      "execution_count": 4,
      "outputs": [
        {
          "output_type": "stream",
          "text": [
            "g = 0.5 runtime: 39.86753535270691 s\n",
            "g = 0.6 runtime: 40.600926876068115 s\n",
            "g = 0.7 runtime: 39.99688458442688 s\n",
            "g = 0.8 runtime: 40.32953071594238 s\n",
            "g = 0.9 runtime: 41.27694916725159 s\n",
            "g = 1.0 runtime: 39.353963136672974 s\n",
            "g = 1.1 runtime: 39.71101093292236 s\n",
            "g = 1.2000000000000002 runtime: 40.77321100234985 s\n",
            "g = 1.3 runtime: 39.795249462127686 s\n",
            "g = 1.4 runtime: 40.35733485221863 s\n",
            "g = 1.5 runtime: 40.29680824279785 s\n",
            "Total runtime: 442.36023569107056 s\n"
          ],
          "name": "stdout"
        }
      ]
    },
    {
      "metadata": {
        "id": "CMbIQ9e9wRol",
        "colab_type": "text"
      },
      "cell_type": "markdown",
      "source": [
        "#Plot"
      ]
    },
    {
      "metadata": {
        "id": "0yCw-X0AuXHW",
        "colab_type": "code",
        "colab": {
          "base_uri": "https://localhost:8080/",
          "height": 394
        },
        "outputId": "a5e0fe8c-ddd3-4883-d2c7-a0ecb6ef0a93"
      },
      "cell_type": "code",
      "source": [
        "plt.figure()\n",
        "p1 = plt.plot(g_list,lambda_list,'-ob',label='Simulation')\n",
        "p2 = plt.plot(g_list,np.zeros(len(g_list)),'r') # 0\n",
        "p3 = plt.plot(g_list, (g_list<1)*(-1+g_list) + (g_list>=1)*0.5*(g_list-1)**2,'--g',label='Theory')\n",
        "plt.legend()\n",
        "plt.xlabel('g');\n",
        "plt.ylabel(r'lambda');\n",
        "plt.title('Maximal lambda: N = ' + str(N));\n",
        "\n",
        "print('Note: Theory for g>1 assumes g->1+ so discrepancy would be expected.')"
      ],
      "execution_count": 167,
      "outputs": [
        {
          "output_type": "stream",
          "text": [
            "Note: Theory for g>1 assumes g->1+ so discrepancy would be expected.\n"
          ],
          "name": "stdout"
        },
        {
          "output_type": "display_data",
          "data": {
            "image/png": "[encoded data removed]",
            "text/plain": [
              "<matplotlib.figure.Figure at 0x7f41ca95f828>"
            ]
          },
          "metadata": {
            "tags": []
          }
        }
      ]
    },
    {
      "metadata": {
        "id": "W0oH9-_8KBmQ",
        "colab_type": "code",
        "colab": {}
      },
      "cell_type": "code",
      "source": [
        ""
      ],
      "execution_count": 0,
      "outputs": []
    }
  ]
}